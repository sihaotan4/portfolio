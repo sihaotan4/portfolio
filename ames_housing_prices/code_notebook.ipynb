{
 "cells": [
  {
   "cell_type": "markdown",
   "metadata": {},
   "source": [
    "# Predicting the Sale Price of Houses in Ames\n",
    "\n",
    "# 1. Problem Statement \n",
    "\n",
    "We are employees of a real estate agency in Ames, Iowa who have been tasked with doing market research for the company to find out the features of a house that are the strongest predictors of the sale price of the house and the magnitude to which these features affect the sale price of the house. \n",
    "\n",
    "The problem covers both prediction and inference - a) derive sale price **predictions** and b) **infer** the strongest features that affect sale price.\n",
    "\n",
    "This information can help our company’s agents determine a fair price range for each house and identify the strongest features of each house they sell in order to maximize selling price for our customers. \n",
    "\n",
    "### Business context\n",
    "\n",
    "Without time/resources/expertise to understand everything about a house, the buyer is unable to ascertain his own valuation perfectly.\n",
    "\n",
    "Because a buyer’s resources are limited, our agents assist the price discovery process such that the buyer is able to arrive at a satisfactory valuation. \n",
    "\n",
    "If we are able to highlight features that increase the perceived value and “downplay” features that decrease perceived value - then the price discovered by the buyer will be higher than if he had total information about the house (which is impossible in reality).\n",
    "\n",
    "This means that we are able to extract additional value from the buyer by tilting the price discovery process in our favor. "
   ]
  },
  {
   "cell_type": "markdown",
   "metadata": {},
   "source": [
    "# 2. Imports"
   ]
  },
  {
   "cell_type": "code",
   "execution_count": 1,
   "metadata": {},
   "outputs": [],
   "source": [
    "import numpy as np\n",
    "import pandas as pd\n",
    "\n",
    "# relating to modelling and model evaluation\n",
    "from sklearn.linear_model import LinearRegression, RidgeCV, LassoCV, ElasticNetCV, HuberRegressor\n",
    "from sklearn.model_selection import cross_val_score, train_test_split, GridSearchCV, KFold\n",
    "\n",
    "# pipeline transformers\n",
    "from sklearn.preprocessing import MinMaxScaler, OneHotEncoder\n",
    "from sklearn.impute import SimpleImputer\n",
    "\n",
    "# for pipeline construction\n",
    "from sklearn.pipeline import Pipeline\n",
    "from sklearn.compose import ColumnTransformer\n",
    "from sklearn import set_config\n",
    "\n",
    "# plotting\n",
    "import matplotlib.pyplot as plt\n",
    "import seaborn as sns\n",
    "import statsmodels.api as sm\n",
    "\n",
    "# exporting outputs\n",
    "import os\n"
   ]
  },
  {
   "cell_type": "markdown",
   "metadata": {},
   "source": [
    "# 3. Importing Datasets"
   ]
  },
  {
   "cell_type": "markdown",
   "metadata": {},
   "source": [
    "A function is defined to import the csv, perform some light formatting on column names, and to set the correct index. Additionally, exception handling is used to handle the test dataset, which is provided without the response variable. The predictions on the test dataset will be verified through a Kaggle submission. "
   ]
  },
  {
   "cell_type": "code",
   "execution_count": 2,
   "metadata": {},
   "outputs": [],
   "source": [
    "def df_import_format(path_):\n",
    "    df = pd.read_csv(path_)\n",
    "    df.columns = df.columns.str.strip().str.lower().str.replace(' ','_').str.replace('/','_')\n",
    "    df = df.set_index('id', drop=True, verify_integrity=True)\n",
    "    try:\n",
    "        y = df['saleprice']\n",
    "        X = df.drop(columns='saleprice')\n",
    "    # to catch the case where there is no saleprice column in the test set\n",
    "    except:\n",
    "        X = df\n",
    "        y = None\n",
    "    return (X, y)"
   ]
  },
  {
   "cell_type": "code",
   "execution_count": 3,
   "metadata": {},
   "outputs": [],
   "source": [
    "# returns X and y dataframes for train and test split later\n",
    "df_train_X, df_train_y = df_import_format('datasets/train.csv')\n",
    "\n",
    "# For kaggle submissions - expectedly, df_test_y is empty (None type)\n",
    "df_test_X, df_test_y = df_import_format('datasets/test.csv')"
   ]
  },
  {
   "cell_type": "markdown",
   "metadata": {},
   "source": [
    "# 3. EDA Part 1 and Data Cleaning"
   ]
  },
  {
   "cell_type": "markdown",
   "metadata": {},
   "source": [
    "The EDA strategy for this dataset is to sift through each feature to understand its distribution and missing values, while consulting the [data dictionary](http://jse.amstat.org/v19n3/decock/DataDocumentation.txt) for context. \n",
    "\n",
    "Each feature is sorted into lists which will facilitate separate pipeline treatments and streamline the code for readability:\n",
    "- categorical nominal\n",
    "- categorical original\n",
    "- numeric continuous\n",
    "- numeric discrete \n",
    "- datetime\n",
    "- features to be dropped"
   ]
  },
  {
   "cell_type": "markdown",
   "metadata": {},
   "source": [
    "### 3.1 Grouping features by type\n",
    "\n",
    "Given the manageable number of features, each feature is individually screened and sorted into lists. _pandas.DataFrame.select_dtypes_ is not used because it does not distinguish categorical ordinal and nominal. Numeric continuous and numeric discrete features are also indiscernible. "
   ]
  },
  {
   "cell_type": "code",
   "execution_count": 39,
   "metadata": {},
   "outputs": [
    {
     "name": "stdout",
     "output_type": "stream",
     "text": [
      "Total number of features sorted: 79\n",
      "Total columns in the dataframe 75\n"
     ]
    }
   ],
   "source": [
    "response = ['saleprice']\n",
    "\n",
    "dropped_features = ['pid']\n",
    "\n",
    "cat_nominal = ['ms_subclass', 'ms_zoning', 'street', 'alley', 'land_contour', 'lot_config',\n",
    "               'neighborhood', 'condition_1', 'condition_2', 'bldg_type', 'house_style',\n",
    "               'roof_style', 'roof_matl', 'exterior_1st', 'exterior_2nd', 'mas_vnr_type',\n",
    "               'foundation', 'heating', 'central_air', 'garage_type', 'paved_drive',\n",
    "               'misc_feature', 'sale_type']\n",
    "\n",
    "cat_ordinal = ['lot_shape', 'utilities', 'land_slope', 'overall_qual', 'overall_cond', 'exter_qual',\n",
    "               'exter_cond', 'bsmt_qual', 'bsmt_cond', 'bsmt_exposure', 'bsmtfin_type_1',\n",
    "               'bsmtfin_type_2', 'heating_qc', 'electrical', 'kitchen_qual', 'functional',\n",
    "               'fireplace_qu', 'garage_finish', 'garage_qual', 'garage_cond', 'pool_qc',\n",
    "               'fence']\n",
    "\n",
    "numeric_cont = ['lot_frontage', 'lot_area', 'mas_vnr_area', 'bsmtfin_sf_1', 'bsmtfin_sf_2',\n",
    "                'bsmt_unf_sf', 'total_bsmt_sf', '1st_flr_sf', '2nd_flr_sf', 'low_qual_fin_sf',\n",
    "                'gr_liv_area', 'garage_area', 'wood_deck_sf', 'open_porch_sf', 'enclosed_porch',\n",
    "                '3ssn_porch', 'screen_porch', 'pool_area', 'misc_val']\n",
    "\n",
    "numeric_discrete = ['bsmt_full_bath', 'bsmt_half_bath', 'full_bath', 'half_bath', 'bedroom_abvgr',\n",
    "                    'kitchen_abvgr', 'totrms_abvgrd', 'fireplaces', 'garage_cars']\n",
    "\n",
    "datetime_features = ['year_built', 'year_remod_add',\n",
    "                     'garage_yr_blt', 'mo_sold', 'yr_sold']\n",
    "\n",
    "# verification that we have sorted everything\n",
    "print(f'Total number of features sorted: {len(dropped_features + cat_nominal + cat_ordinal + numeric_cont + numeric_discrete + datetime_features)}')\n",
    "print(f'Total columns in the dataframe {len(df_train_X.columns)}')\n"
   ]
  },
  {
   "cell_type": "markdown",
   "metadata": {},
   "source": [
    "### 3.2 Scanning through all features\n",
    "\n",
    "Two functions are defined to provide top-level information on the distribution of each feature. For the sake of brevity, the lengthy outputs for all features have been excluded from this code notebook. \n",
    "\n",
    "Instead, the functions are provided below, along with three examples of how they were called for each feature. Any notable features found via this screening approach are discussed in this section after the examples."
   ]
  },
  {
   "cell_type": "code",
   "execution_count": 5,
   "metadata": {},
   "outputs": [],
   "source": [
    "def info_categorical_feature(feature, df=df_train_X):\n",
    "    print(df[feature].value_counts(dropna=False))\n",
    "\n",
    "\n",
    "def info_numeric_feature(feature, df=df_train_X):\n",
    "    fig, axes = plt.subplots(1, 2, figsize=(12, 5))\n",
    "    sns.boxplot(data=df, x=feature, ax=axes[0])\n",
    "    sns.histplot(data=df, x=feature, ax=axes[1])\n"
   ]
  },
  {
   "cell_type": "code",
   "execution_count": 6,
   "metadata": {},
   "outputs": [
    {
     "name": "stdout",
     "output_type": "stream",
     "text": [
      "TA     1834\n",
      "Gd       89\n",
      "Fa       65\n",
      "NaN      55\n",
      "Po        5\n",
      "Ex        3\n",
      "Name: bsmt_cond, dtype: int64\n"
     ]
    }
   ],
   "source": [
    "# an example of usage on a categorical feature\n",
    "info_categorical_feature('bsmt_cond')\n"
   ]
  },
  {
   "cell_type": "code",
   "execution_count": 7,
   "metadata": {},
   "outputs": [
    {
     "data": {
      "image/png": "[encoded data removed]",
      "text/plain": [
       "<Figure size 864x360 with 2 Axes>"
      ]
     },
     "metadata": {
      "needs_background": "light"
     },
     "output_type": "display_data"
    }
   ],
   "source": [
    "# an example of usage on the response variable\n",
    "info_numeric_feature('saleprice', df=pd.DataFrame(df_train_y))\n"
   ]
  },
  {
   "cell_type": "code",
   "execution_count": 8,
   "metadata": {},
   "outputs": [
    {
     "data": {
      "image/png": "[encoded data removed]",
      "text/plain": [
       "<Figure size 864x360 with 2 Axes>"
      ]
     },
     "metadata": {
      "needs_background": "light"
     },
     "output_type": "display_data"
    }
   ],
   "source": [
    "# an example of usage\n",
    "info_numeric_feature('garage_area')\n"
   ]
  },
  {
   "cell_type": "markdown",
   "metadata": {},
   "source": [
    "### 3.3 Notable points from scanning through all features\n",
    "\n",
    "- The response variable 'saleprice' is continuous and appears to have a gaussian distribution with a positive skew. A log transform of the response can be considered if the initial model does not fit well.\n",
    "\n",
    "- Missing values are present in a number of features.\n",
    "\n",
    "- Some numeric features appear to have a gaussian distribution but with a positive skew (like the plot above). Read alongside the box plots, this suggests that there are outliers in the data. A robust model (not unduly affected by outliers) should be used for this dataset. Alternatively, the outliers can be removed if this helps model training. \n",
    "\n",
    "- Some categorical features have scarce categories. For example 'utilities' has a majority group of 2049 out of a total of 2051 rows. 'pool_qc' is also another example of a highly unbalanced categorical feature. If One Hot Encoding (OHE) is applied to the categorical features, the resulting matrix might be sparse. \n",
    "\n",
    "- Datetime features are also present, these features will need to be engineered into a more useful feature like 'age at sale'."
   ]
  },
  {
   "cell_type": "markdown",
   "metadata": {},
   "source": [
    "### 3.4 Handling missing values"
   ]
  },
  {
   "cell_type": "markdown",
   "metadata": {},
   "source": [
    "For each feature, the count of missing values are tabulated and sorted."
   ]
  },
  {
   "cell_type": "code",
   "execution_count": 9,
   "metadata": {},
   "outputs": [
    {
     "data": {
      "text/html": [
       "<div>\n",
       "<style scoped>\n",
       "    .dataframe tbody tr th:only-of-type {\n",
       "        vertical-align: middle;\n",
       "    }\n",
       "\n",
       "    .dataframe tbody tr th {\n",
       "        vertical-align: top;\n",
       "    }\n",
       "\n",
       "    .dataframe thead th {\n",
       "        text-align: right;\n",
       "    }\n",
       "</style>\n",
       "<table border=\"1\" class=\"dataframe\">\n",
       "  <thead>\n",
       "    <tr style=\"text-align: right;\">\n",
       "      <th></th>\n",
       "      <th>missing_count</th>\n",
       "      <th>missing_percent</th>\n",
       "    </tr>\n",
       "  </thead>\n",
       "  <tbody>\n",
       "    <tr>\n",
       "      <th>pool_qc</th>\n",
       "      <td>2042</td>\n",
       "      <td>100.0</td>\n",
       "    </tr>\n",
       "    <tr>\n",
       "      <th>misc_feature</th>\n",
       "      <td>1986</td>\n",
       "      <td>97.0</td>\n",
       "    </tr>\n",
       "    <tr>\n",
       "      <th>alley</th>\n",
       "      <td>1911</td>\n",
       "      <td>93.0</td>\n",
       "    </tr>\n",
       "    <tr>\n",
       "      <th>fence</th>\n",
       "      <td>1651</td>\n",
       "      <td>80.0</td>\n",
       "    </tr>\n",
       "    <tr>\n",
       "      <th>fireplace_qu</th>\n",
       "      <td>1000</td>\n",
       "      <td>49.0</td>\n",
       "    </tr>\n",
       "    <tr>\n",
       "      <th>lot_frontage</th>\n",
       "      <td>330</td>\n",
       "      <td>16.0</td>\n",
       "    </tr>\n",
       "    <tr>\n",
       "      <th>garage_finish</th>\n",
       "      <td>114</td>\n",
       "      <td>6.0</td>\n",
       "    </tr>\n",
       "    <tr>\n",
       "      <th>garage_cond</th>\n",
       "      <td>114</td>\n",
       "      <td>6.0</td>\n",
       "    </tr>\n",
       "    <tr>\n",
       "      <th>garage_yr_blt</th>\n",
       "      <td>114</td>\n",
       "      <td>6.0</td>\n",
       "    </tr>\n",
       "    <tr>\n",
       "      <th>garage_qual</th>\n",
       "      <td>114</td>\n",
       "      <td>6.0</td>\n",
       "    </tr>\n",
       "    <tr>\n",
       "      <th>garage_type</th>\n",
       "      <td>113</td>\n",
       "      <td>6.0</td>\n",
       "    </tr>\n",
       "    <tr>\n",
       "      <th>bsmt_exposure</th>\n",
       "      <td>58</td>\n",
       "      <td>3.0</td>\n",
       "    </tr>\n",
       "    <tr>\n",
       "      <th>bsmtfin_type_2</th>\n",
       "      <td>56</td>\n",
       "      <td>3.0</td>\n",
       "    </tr>\n",
       "    <tr>\n",
       "      <th>bsmt_cond</th>\n",
       "      <td>55</td>\n",
       "      <td>3.0</td>\n",
       "    </tr>\n",
       "    <tr>\n",
       "      <th>bsmt_qual</th>\n",
       "      <td>55</td>\n",
       "      <td>3.0</td>\n",
       "    </tr>\n",
       "    <tr>\n",
       "      <th>bsmtfin_type_1</th>\n",
       "      <td>55</td>\n",
       "      <td>3.0</td>\n",
       "    </tr>\n",
       "    <tr>\n",
       "      <th>mas_vnr_area</th>\n",
       "      <td>22</td>\n",
       "      <td>1.0</td>\n",
       "    </tr>\n",
       "    <tr>\n",
       "      <th>mas_vnr_type</th>\n",
       "      <td>22</td>\n",
       "      <td>1.0</td>\n",
       "    </tr>\n",
       "    <tr>\n",
       "      <th>bsmt_half_bath</th>\n",
       "      <td>2</td>\n",
       "      <td>0.0</td>\n",
       "    </tr>\n",
       "    <tr>\n",
       "      <th>bsmt_full_bath</th>\n",
       "      <td>2</td>\n",
       "      <td>0.0</td>\n",
       "    </tr>\n",
       "    <tr>\n",
       "      <th>garage_cars</th>\n",
       "      <td>1</td>\n",
       "      <td>0.0</td>\n",
       "    </tr>\n",
       "    <tr>\n",
       "      <th>garage_area</th>\n",
       "      <td>1</td>\n",
       "      <td>0.0</td>\n",
       "    </tr>\n",
       "    <tr>\n",
       "      <th>total_bsmt_sf</th>\n",
       "      <td>1</td>\n",
       "      <td>0.0</td>\n",
       "    </tr>\n",
       "    <tr>\n",
       "      <th>bsmt_unf_sf</th>\n",
       "      <td>1</td>\n",
       "      <td>0.0</td>\n",
       "    </tr>\n",
       "    <tr>\n",
       "      <th>bsmtfin_sf_2</th>\n",
       "      <td>1</td>\n",
       "      <td>0.0</td>\n",
       "    </tr>\n",
       "  </tbody>\n",
       "</table>\n",
       "</div>"
      ],
      "text/plain": [
       "                missing_count  missing_percent\n",
       "pool_qc                  2042            100.0\n",
       "misc_feature             1986             97.0\n",
       "alley                    1911             93.0\n",
       "fence                    1651             80.0\n",
       "fireplace_qu             1000             49.0\n",
       "lot_frontage              330             16.0\n",
       "garage_finish             114              6.0\n",
       "garage_cond               114              6.0\n",
       "garage_yr_blt             114              6.0\n",
       "garage_qual               114              6.0\n",
       "garage_type               113              6.0\n",
       "bsmt_exposure              58              3.0\n",
       "bsmtfin_type_2             56              3.0\n",
       "bsmt_cond                  55              3.0\n",
       "bsmt_qual                  55              3.0\n",
       "bsmtfin_type_1             55              3.0\n",
       "mas_vnr_area               22              1.0\n",
       "mas_vnr_type               22              1.0\n",
       "bsmt_half_bath              2              0.0\n",
       "bsmt_full_bath              2              0.0\n",
       "garage_cars                 1              0.0\n",
       "garage_area                 1              0.0\n",
       "total_bsmt_sf               1              0.0\n",
       "bsmt_unf_sf                 1              0.0\n",
       "bsmtfin_sf_2                1              0.0"
      ]
     },
     "execution_count": 9,
     "metadata": {},
     "output_type": "execute_result"
    }
   ],
   "source": [
    "nan_percent = df_train_X.isna().mean()*100\n",
    "nan_count = df_train_X.isna().sum()\n",
    "\n",
    "# using concat to stitch the two dataframes together - then chaining sort and head methods\n",
    "(pd.concat([nan_count.rename('missing_count'), nan_percent.round().rename('missing_percent')], axis=1)\n",
    " .sort_values(by='missing_count', ascending=False)).head(25)\n"
   ]
  },
  {
   "cell_type": "markdown",
   "metadata": {},
   "source": [
    "With the [data dictionary](http://jse.amstat.org/v19n3/decock/DataDocumentation.txt), it is clear that not all NaN values are truly missing. For some features, NaN has been chosen to denote the *lack of a feature* instead. These NaNs should be replaced with something to denote *'no feature'* instead. A loop is used to replace the NaNs for such cases."
   ]
  },
  {
   "cell_type": "code",
   "execution_count": 10,
   "metadata": {},
   "outputs": [],
   "source": [
    "has_missing_values = {'pool_qc': 'no_pool',\n",
    "                      'misc_feature': 'no_misc_feature',\n",
    "                      'alley': 'no_access',\n",
    "                      'fence': 'no_fence',\n",
    "                      'fireplace_qu': 'no_fireplace',\n",
    "                      'lot_frontage': 0,\n",
    "                      'mas_vnr_type': 'no_vnr',\n",
    "                      'mas_vnr_area': 0,\n",
    "                      'bsmtfin_type_1': 'no_basement',\n",
    "                      'bsmt_exposure': 'no_basement',\n",
    "                      'bsmt_qual': 'no_basement',\n",
    "                      'bsmt_cond': 'no_basement',\n",
    "                      'bsmtfin_type_2': 'no_basement',\n",
    "                      'garage_type': 'no_garage',\n",
    "                      'garage_yr_blt': 'no_garage',\n",
    "                      'garage_finish': 'no_garage',\n",
    "                      'garage_qual': 'no_garage',\n",
    "                      'garage_cond': 'no_garage'}\n",
    "\n",
    "# lot_frontage - Looking at the distribution, the min value is 21.\n",
    "# For this feature, it is likely that NaN means no lot frontage, NaN replaced with 0\n",
    "\n",
    "# the test set can also be imputed in this way, without any data leakage\n",
    "for key, value in has_missing_values.items():\n",
    "    df_train_X.loc[df_train_X[key].isna(), key] = value\n",
    "    df_test_X.loc[df_test_X[key].isna(), key] = value\n"
   ]
  },
  {
   "cell_type": "code",
   "execution_count": 11,
   "metadata": {},
   "outputs": [
    {
     "data": {
      "text/plain": [
       "bsmt_half_bath    2\n",
       "bsmt_full_bath    2\n",
       "total_bsmt_sf     1\n",
       "bsmt_unf_sf       1\n",
       "bsmtfin_sf_2      1\n",
       "garage_cars       1\n",
       "bsmtfin_sf_1      1\n",
       "garage_area       1\n",
       "bedroom_abvgr     0\n",
       "functional        0\n",
       "dtype: int64"
      ]
     },
     "execution_count": 11,
     "metadata": {},
     "output_type": "execute_result"
    }
   ],
   "source": [
    "# remaining missing values\n",
    "df_train_X.isna().sum().sort_values(ascending=False).head(10)\n"
   ]
  },
  {
   "cell_type": "markdown",
   "metadata": {},
   "source": [
    "The remaining missing values are really missing data. These will need to be imputed in the model pipeline."
   ]
  },
  {
   "cell_type": "markdown",
   "metadata": {},
   "source": [
    "# 4. Feature Engineering"
   ]
  },
  {
   "cell_type": "markdown",
   "metadata": {},
   "source": [
    "A total of 5 datetime features are present in the dataset. Two new features are engineered from these datetime features.\n",
    "\n",
    "- 'year_built' - An 'age_at_sale' feature can be engineered by taking the difference between 'year_built' and 'yr_sold'\n",
    "\n",
    "- 'year_remod/add' - A 'years_since_remodel' feature can be engineered by taking the difference between 'year_remod_add' and 'yr_sold'\n",
    "\n",
    "Two new functions are defined to create these features in both the test and train sets."
   ]
  },
  {
   "cell_type": "code",
   "execution_count": 12,
   "metadata": {},
   "outputs": [],
   "source": [
    "def create_age_at_sale(df):\n",
    "\n",
    "    original_num_rows = len(df)\n",
    "    df.loc[:, 'age_at_sale'] = df['yr_sold'] - df['year_built']\n",
    "\n",
    "    # we have one negative age at ID 2181, clearly a mistake in the data so choose to drop\n",
    "    df = df.loc[df['age_at_sale'] >= 0, :]\n",
    "\n",
    "    print(\n",
    "        f'creating \"age_at_sale\" {original_num_rows - len(df)} rows removed from dataframe')\n",
    "\n",
    "    return df\n"
   ]
  },
  {
   "cell_type": "code",
   "execution_count": 13,
   "metadata": {},
   "outputs": [],
   "source": [
    "def create_years_since_remodel(df):\n",
    "\n",
    "    original_num_rows = len(df)\n",
    "    df.loc[:, 'yrs_since_remod'] = df['yr_sold'] - df['year_remod_add']\n",
    "\n",
    "    # we have one negative yrs_since_remod at ID 1703, clearly a mistake in the data\n",
    "    df.loc[df['yrs_since_remod'].isna(), 'yrs_since_remod'] = df['age_at_sale']\n",
    "\n",
    "    # impute with age at sale - if the house was never remodeled\n",
    "    df.loc[df['yrs_since_remod'] < 0, 'yrs_since_remod'] = df['age_at_sale']\n",
    "\n",
    "    print(\n",
    "        f'creating \"yrs_since_remod\" {original_num_rows - len(df)} rows removed from dataframe')\n",
    "\n",
    "    return df\n"
   ]
  },
  {
   "cell_type": "code",
   "execution_count": 14,
   "metadata": {},
   "outputs": [
    {
     "name": "stdout",
     "output_type": "stream",
     "text": [
      "Train set - creating new features\n",
      "creating \"age_at_sale\" 1 rows removed from dataframe\n",
      "creating \"yrs_since_remod\" 0 rows removed from dataframe\n",
      "\n",
      "Test set - creating new features\n",
      "creating \"age_at_sale\" 0 rows removed from dataframe\n",
      "creating \"yrs_since_remod\" 0 rows removed from dataframe\n"
     ]
    }
   ],
   "source": [
    "# calling functions to engineer new features on both test and train frames\n",
    "\n",
    "# the function calls may throw a false positive warning - this suppresses the warning\n",
    "pd.options.mode.chained_assignment = None  # default='warn'\n",
    "\n",
    "print('Train set - creating new features')\n",
    "df_train_X = create_age_at_sale(df_train_X)\n",
    "df_train_X = create_years_since_remodel(df_train_X)\n",
    "\n",
    "print('\\nTest set - creating new features')\n",
    "df_test_X = create_age_at_sale(df_test_X)\n",
    "df_test_X = create_years_since_remodel(df_test_X)"
   ]
  },
  {
   "cell_type": "markdown",
   "metadata": {},
   "source": [
    "### 4.1 Analyzing the new features - Age at Sale / Yrs Since Remodelling\n",
    "\n",
    "- Age at sale appears to be exponentially distributed with some outliers, which are houses that are more than 120 years old at the point of sale.\n",
    "\n",
    "- Years since remodelling has a bimodal distribution. The feature was engineered this way; houses which were never remodelled have this value imputed with its age at sale instead. Essentially, this feature is attempting to capture the *effective age* of a house, since very old houses can be remodelled and have a younger perceived age.\n",
    "\n",
    "- Together, these two features attempt to capture the age of the house."
   ]
  },
  {
   "cell_type": "code",
   "execution_count": 15,
   "metadata": {},
   "outputs": [
    {
     "data": {
      "image/png": "[encoded data removed]",
      "text/plain": [
       "<Figure size 864x360 with 2 Axes>"
      ]
     },
     "metadata": {
      "needs_background": "light"
     },
     "output_type": "display_data"
    },
    {
     "data": {
      "image/png": "[encoded data removed]",
      "text/plain": [
       "<Figure size 864x360 with 2 Axes>"
      ]
     },
     "metadata": {
      "needs_background": "light"
     },
     "output_type": "display_data"
    }
   ],
   "source": [
    "# visualise these two new features\n",
    "info_numeric_feature('age_at_sale')\n",
    "info_numeric_feature('yrs_since_remod', df=df_train_X)\n"
   ]
  },
  {
   "cell_type": "markdown",
   "metadata": {},
   "source": [
    "### 4.2 Tracking newly-engineered features in both test and train sets\n",
    "\n",
    "- Lastly, the functions that created these features remove rows where the age is negative, which is a likely error in the original data. The dropped rows will also need to be removed from the y dataframe so both dataframes are the same length. \n",
    "\n",
    "- Additionally, the newly engineered features will need to be tracked and the unused datetime features should be dropped."
   ]
  },
  {
   "cell_type": "code",
   "execution_count": 16,
   "metadata": {},
   "outputs": [
    {
     "name": "stdout",
     "output_type": "stream",
     "text": [
      "Index [2181] dropped from the train_y dataframe\n"
     ]
    }
   ],
   "source": [
    "# finding missing indices that were dropped in X, making sure that y is the same length\n",
    "dropped_indices = list(set(df_train_y.index).difference(set(df_train_X.index)))\n",
    "df_train_y = df_train_y.drop(index=dropped_indices)\n",
    "print(f'Index {dropped_indices} dropped from the train_y dataframe')\n",
    "\n",
    "# this doesn't need to be done for the test set as there is no y dataframe for the test\n"
   ]
  },
  {
   "cell_type": "code",
   "execution_count": 17,
   "metadata": {},
   "outputs": [],
   "source": [
    "# track newly created features in the list of numeric columns\n",
    "numeric_cont.extend(['age_at_sale', 'yrs_since_remod'])\n",
    "\n",
    "# updating the 'drop list' with the other datetime features which are no longer required\n",
    "dropped_features.extend(datetime_features)\n"
   ]
  },
  {
   "cell_type": "markdown",
   "metadata": {},
   "source": [
    "# 5. EDA Part 2 - Correlation plot"
   ]
  },
  {
   "cell_type": "markdown",
   "metadata": {},
   "source": [
    "Once new features have been created, a final EDA is undertaken with all the features present.\n",
    "\n",
    "A Pearson's correlation plot is used to provide a high-level scan of potential relationships between numeric variables. Note that this does not show any information on categorical features."
   ]
  },
  {
   "cell_type": "code",
   "execution_count": 18,
   "metadata": {},
   "outputs": [
    {
     "data": {
      "image/png": "[encoded data removed]",
      "text/plain": [
       "<Figure size 720x648 with 2 Axes>"
      ]
     },
     "metadata": {
      "needs_background": "light"
     },
     "output_type": "display_data"
    }
   ],
   "source": [
    "corr_df = df_train_y.to_frame().merge(\n",
    "    df_train_X, left_index=True, right_index=True)\n",
    "\n",
    "# limiting the data frame to only the numeric columns - then chaining the corr method\n",
    "corr_df = corr_df[response + numeric_cont + numeric_discrete].corr()\n",
    "\n",
    "# creating a white mask for the top triangle of the correlation matrix to improve readability\n",
    "mask = np.zeros_like(corr_df)\n",
    "mask[np.triu_indices_from(mask)] = True\n",
    "\n",
    "fig, axes = plt.subplots(figsize=(10, 9))\n",
    "sns.heatmap(corr_df, linewidths=.5, cmap='YlGnBu', mask=mask).set(\n",
    "    title='Correlation between response and features')\n"
   ]
  },
  {
   "cell_type": "markdown",
   "metadata": {},
   "source": [
    "Features correlated with the response: (+ or -) denotes positive or negative correlation respectively:\n",
    "\n",
    "- (+) 'mas_vnr_area' - Masonry veneer area\n",
    "- (+) 'total_bsmt_sf' - Total basement area\n",
    "- (+) '1st_flr_sf' - First Floor area\n",
    "- (+) 'gr_liv_area' - Above ground living area\n",
    "- (+) 'garage_area' - Size of garage\n",
    "- (+) 'full_bath' - Full bathrooms above ground\n",
    "- (+) 'totrms_abvgrd' - Total rooms above ground \n",
    "- (+) 'garage_cars' - Size of garage in car capacity\n",
    "\n",
    "- (-) 'age_at_sale' - Age of the house at the point of sale\n",
    "- (-) 'yrs_since_remod' - Years since remodeling or additions at the point of sale\n",
    "\n",
    "The correlation plot also suggests [multicollinearity](https://en.wikipedia.org/wiki/Multicollinearity), which is high correlation between the features. Potentially, a regression model may have a high chance of overfitting (high noise)."
   ]
  },
  {
   "cell_type": "markdown",
   "metadata": {},
   "source": [
    "# 6. Model Feasibility\n",
    "\n",
    "### 6.1 Appropriateness of regression models\n",
    "\n",
    "- The response variable 'saleprice' is a numeric continuous variable. A regression approach is proposed to model the data and make sale price predictions.\n",
    "\n",
    "- Regression is ideal for this business context because ease of interpretation is important to stakeholders. Additionally, individual feature effects can also be inferred from regression models by looking at the feature coefficients. \n",
    "\n",
    "- Features are a mix of numerical and categorical variables, regression models can handle this well if numeric features are scaled (for regularized regressions) and categorical variables are encoded.\n",
    "\n",
    "- There are technical assumptions for regressions which will be tested after model development.\n",
    "\n",
    "### 6.2 Overcoming potential challenges in the data\n",
    "\n",
    "1. Outlier data points are present in this dataset and can often make regression lines less accurate.\n",
    "\n",
    "2. Multicollinearity. Potentially, a regression model may have a high chance of overfitting (high noise).\n",
    "\n",
    "Theses challenges can each be addressed through the use of regularized regressions (Lasso and Ridge) and their hybrids (Elastic net and the Huber Regressor).\n",
    "\n",
    "Outliers in the data may require a robust model and the [Huber Regressor](https://artowen.su.domains/reports/hhu.pdf) comes to mind. The multicollinearity problem also necessitates regularization and models like the Elastic Net has been shown to be [robust to extreme correlations among predictors](https://pubmed.ncbi.nlm.nih.gov/20808728/).\n",
    "\n",
    "The chosen strategy is to first evaluate if regularized models can effectively deal with the challenges in this dataset before more extreme methods like dropping outliers and collinear features are considered. \n",
    "\n",
    "### 6.3 Feature selection for regression\n",
    "\n",
    "Given the large number of features, a possible approach might be to consider feature selection, either manually prior to modelling or as part of the sklearn pipeline. \n",
    "\n",
    "However, first consider  that the data is far from being considered high-dimensional, which is when the number of features rivals or even exceeds the number of observations [(source)](https://www.stat.cmu.edu/~ryantibs/advmethods/notes/highdim.pdf). Even if this is the case, regularization methods like Ridge have empirical success in high dimensional datasets and when features are highly correlated [(source)](http://citeseerx.ist.psu.edu/viewdoc/download?doi=10.1.1.87.8588&rep=rep1&type=pdf). \n",
    "\n",
    "Therefore, feature selection/dimensionality reduction is not theoretically required. Still there are practical benefits from feature selection/dimensionality reduction prior to regression:\n",
    "\n",
    "1. Reduced resource consumption in training\n",
    "2. Controlling for overfitting\n",
    "3. Ease of interpretation by stakeholders\n",
    "4. Ease of making future predictions in a production model\n",
    "\n",
    "In this case, the reduction in resources required is negligible. Given the size of this dataset and well-implemented regularization paths in sklearn, training these regression models should only take a few minutes on a modern computer. Overfitting is also controlled by the presence of regularization, which can be tuned via their respective hyperparameters.\n",
    "\n",
    "As for interpretation by stakeholders, the regression model is an easily understood parametric model. Regardless of the number of variables, the coefficients for each feature can be individually explained. \n",
    "\n",
    "However, parsimony may still be desirable in the final production model. The more complex the model, the more data will be required to make future predictions outside of the test set. This is a matter that should be discussed with stakeholders if a production model is required.\n",
    "\n",
    "### 6.4 Summary of Model Feasibility\n",
    "\n",
    "- Regression models are appropriate for this problem.\n",
    "\n",
    "- Potential challenges can be mitigated with various regularized models. Each model will need to be tested for performance as different regularization approaches have their own strengths.\n",
    "\n",
    "- Feature selection is not theoretically necessary for this problem but can be considered on practical grounds. No feature selection is implemented for now."
   ]
  },
  {
   "cell_type": "markdown",
   "metadata": {},
   "source": [
    "# 7. Regression Modeling"
   ]
  },
  {
   "cell_type": "markdown",
   "metadata": {},
   "source": [
    "The dataframes are finalized, with unusable features (id tags and untransformed datetime features) removed. The training set is split via a random train test split. Note that the data leakage has been controlled up to this point because no column-wise feature scaling has been executed."
   ]
  },
  {
   "cell_type": "code",
   "execution_count": 19,
   "metadata": {},
   "outputs": [],
   "source": [
    "# finalizing dataframes - dropping unwanted features highlighted in EDA and feature engineering\n",
    "df_train_X = df_train_X.drop(columns=dropped_features)\n",
    "df_test_X = df_test_X.drop(columns=dropped_features)\n",
    "\n",
    "# train test split - must specify random sta=te for reproducibility\n",
    "X_train, X_test, y_train, y_test = train_test_split(\n",
    "    df_train_X, df_train_y, test_size=0.2, random_state=42)\n"
   ]
  },
  {
   "cell_type": "markdown",
   "metadata": {},
   "source": [
    "Tracking of numeric features is updated, with no distinction between numeric continuous and numeric discrete features.\n",
    "\n",
    "Tracking of categorical features is also updated with no distinction between ordinal and nominal features. Note that with this approach, the ordinal ranking information is lost for these features and the model effectively treats these ordinal categories as categorical nominal features. \n",
    "\n",
    "Using the information encoded in ordinality is a difficult problem, the _\"values exists on an arbitrary scale where only the relative ordering between different values is significant\"_ and more advanced methods [(source)](https://en.wikipedia.org/wiki/Ordinal_regression#:~:text=In%20statistics%2C%20ordinal%20regression%2C%20also,between%20different%20values%20is%20significant) can be considered in a future execution. "
   ]
  },
  {
   "cell_type": "code",
   "execution_count": 20,
   "metadata": {},
   "outputs": [],
   "source": [
    "# bundling numeric and categorical features for the column transformer\n",
    "numeric_features = numeric_cont + numeric_discrete\n",
    "cat_features = cat_nominal + cat_ordinal "
   ]
  },
  {
   "cell_type": "markdown",
   "metadata": {},
   "source": [
    "5 regression models are tested:\n",
    "\n",
    "- Multiple linear regression (aka sklearn's Linear Regression)\n",
    "\n",
    "- Lasso Regression (trained with l1 regularization term)\n",
    "\n",
    "- Ridge Regression (trained with l2 regularization term)\n",
    "\n",
    "- Elastic Net Regression (trained with both l1 and l2 regularization terms, the convex combination is controlled with a l1_ratio parameter)\n",
    "\n",
    "- Huber Regression*\n",
    "\n",
    "*The Huber Regression is a robust penalized (regularized) regression [(source)](https://artowen.su.domains/reports/hhu.pdf). It is different from Ridge because it applies a l1 linear loss to samples that are classified as outliers, while inliers are subject to a less aggressive l2 loss. An example of how Huber Regression is robust to outliers can be found in [sklearn's documentation](https://scikit-learn.org/stable/auto_examples/linear_model/plot_huber_vs_ridge.html#sphx-glr-auto-examples-linear-model-plot-huber-vs-ridge-py).\n",
    "\n",
    "While not as common as the Elastic Net, the Huber Regressor was selected because outliers are present in this dataset. Additionally, the Huber is capable of yielding sparse regression coefficients, similar to it's Lasso counterpart."
   ]
  },
  {
   "cell_type": "code",
   "execution_count": 21,
   "metadata": {},
   "outputs": [],
   "source": [
    "# some models have random states, which need to be specified for reproducibility\n",
    "# lasso, Ridge, E-Net are called in their CV versions with innate hyperparameter tuning\n",
    "\n",
    "test_models = {\n",
    "    'LinearRegression': LinearRegression(),\n",
    "    'Lasso': LassoCV(random_state=42, n_jobs=-1),\n",
    "    'Ridge': RidgeCV(),\n",
    "    'ElasticNet': ElasticNetCV(l1_ratio=[.1, .5, .9, .95, .99, 1], random_state=42, n_jobs=-1),\n",
    "    'Huber': HuberRegressor(epsilon=1.35, alpha=0.0001, max_iter=10000),\n",
    "}\n"
   ]
  },
  {
   "cell_type": "markdown",
   "metadata": {},
   "source": [
    "The following code blocks create individual model pipelines for each of the 5 models and stores them in a dictionary. \n",
    "\n",
    "A sklearn [column transformer](https://scikit-learn.org/stable/modules/generated/sklearn.compose.ColumnTransformer.html) is used in the pipeline so numeric features can be processed differently from categorical ones.\n",
    "\n",
    "After separate preprocessing, all features are fed into the estimator, which is one of the five regression models. "
   ]
  },
  {
   "cell_type": "code",
   "execution_count": 22,
   "metadata": {},
   "outputs": [],
   "source": [
    "# instantiate a dictionary to store all constructed model pipelines\n",
    "model_pipes = {}\n",
    "\n",
    "for model_name, model in test_models.items():\n",
    "\n",
    "    numeric_transformer = Pipeline(steps=[('num_imputer', SimpleImputer(strategy='median')),\n",
    "                                          ('scaler', MinMaxScaler())\n",
    "                                          ])\n",
    "\n",
    "    categorical_transformer = Pipeline(steps=[('cat_imputer', SimpleImputer(strategy='most_frequent')),\n",
    "                                              ('onehot', OneHotEncoder(\n",
    "                                                  handle_unknown='ignore'))\n",
    "                                              ])\n",
    "\n",
    "    preprocessor = ColumnTransformer(\n",
    "        transformers=[('num', numeric_transformer, numeric_features),\n",
    "                      ('cat', categorical_transformer, cat_features)\n",
    "                      ])\n",
    "\n",
    "    model_pipes[model_name] = Pipeline(steps=[('preprocessor', preprocessor),\n",
    "                                              ('estimator', model)\n",
    "                                              ])\n"
   ]
  },
  {
   "cell_type": "code",
   "execution_count": 23,
   "metadata": {},
   "outputs": [
    {
     "data": {
      "text/html": [
       "<style>#sk-eedca6df-0728-44da-b8ff-b131e8fa16b0 {color: black;background-color: white;}#sk-eedca6df-0728-44da-b8ff-b131e8fa16b0 pre{padding: 0;}#sk-eedca6df-0728-44da-b8ff-b131e8fa16b0 div.sk-toggleable {background-color: white;}#sk-eedca6df-0728-44da-b8ff-b131e8fa16b0 label.sk-toggleable__label {cursor: pointer;display: block;width: 100%;margin-bottom: 0;padding: 0.3em;box-sizing: border-box;text-align: center;}#sk-eedca6df-0728-44da-b8ff-b131e8fa16b0 label.sk-toggleable__label-arrow:before {content: \"▸\";float: left;margin-right: 0.25em;color: #696969;}#sk-eedca6df-0728-44da-b8ff-b131e8fa16b0 label.sk-toggleable__label-arrow:hover:before {color: black;}#sk-eedca6df-0728-44da-b8ff-b131e8fa16b0 div.sk-estimator:hover label.sk-toggleable__label-arrow:before {color: black;}#sk-eedca6df-0728-44da-b8ff-b131e8fa16b0 div.sk-toggleable__content {max-height: 0;max-width: 0;overflow: hidden;text-align: left;background-color: #f0f8ff;}#sk-eedca6df-0728-44da-b8ff-b131e8fa16b0 div.sk-toggleable__content pre {margin: 0.2em;color: black;border-radius: 0.25em;background-color: #f0f8ff;}#sk-eedca6df-0728-44da-b8ff-b131e8fa16b0 input.sk-toggleable__control:checked~div.sk-toggleable__content {max-height: 200px;max-width: 100%;overflow: auto;}#sk-eedca6df-0728-44da-b8ff-b131e8fa16b0 input.sk-toggleable__control:checked~label.sk-toggleable__label-arrow:before {content: \"▾\";}#sk-eedca6df-0728-44da-b8ff-b131e8fa16b0 div.sk-estimator input.sk-toggleable__control:checked~label.sk-toggleable__label {background-color: #d4ebff;}#sk-eedca6df-0728-44da-b8ff-b131e8fa16b0 div.sk-label input.sk-toggleable__control:checked~label.sk-toggleable__label {background-color: #d4ebff;}#sk-eedca6df-0728-44da-b8ff-b131e8fa16b0 input.sk-hidden--visually {border: 0;clip: rect(1px 1px 1px 1px);clip: rect(1px, 1px, 1px, 1px);height: 1px;margin: -1px;overflow: hidden;padding: 0;position: absolute;width: 1px;}#sk-eedca6df-0728-44da-b8ff-b131e8fa16b0 div.sk-estimator {font-family: monospace;background-color: #f0f8ff;border: 1px dotted black;border-radius: 0.25em;box-sizing: border-box;margin-bottom: 0.5em;}#sk-eedca6df-0728-44da-b8ff-b131e8fa16b0 div.sk-estimator:hover {background-color: #d4ebff;}#sk-eedca6df-0728-44da-b8ff-b131e8fa16b0 div.sk-parallel-item::after {content: \"\";width: 100%;border-bottom: 1px solid gray;flex-grow: 1;}#sk-eedca6df-0728-44da-b8ff-b131e8fa16b0 div.sk-label:hover label.sk-toggleable__label {background-color: #d4ebff;}#sk-eedca6df-0728-44da-b8ff-b131e8fa16b0 div.sk-serial::before {content: \"\";position: absolute;border-left: 1px solid gray;box-sizing: border-box;top: 2em;bottom: 0;left: 50%;}#sk-eedca6df-0728-44da-b8ff-b131e8fa16b0 div.sk-serial {display: flex;flex-direction: column;align-items: center;background-color: white;padding-right: 0.2em;padding-left: 0.2em;}#sk-eedca6df-0728-44da-b8ff-b131e8fa16b0 div.sk-item {z-index: 1;}#sk-eedca6df-0728-44da-b8ff-b131e8fa16b0 div.sk-parallel {display: flex;align-items: stretch;justify-content: center;background-color: white;}#sk-eedca6df-0728-44da-b8ff-b131e8fa16b0 div.sk-parallel::before {content: \"\";position: absolute;border-left: 1px solid gray;box-sizing: border-box;top: 2em;bottom: 0;left: 50%;}#sk-eedca6df-0728-44da-b8ff-b131e8fa16b0 div.sk-parallel-item {display: flex;flex-direction: column;position: relative;background-color: white;}#sk-eedca6df-0728-44da-b8ff-b131e8fa16b0 div.sk-parallel-item:first-child::after {align-self: flex-end;width: 50%;}#sk-eedca6df-0728-44da-b8ff-b131e8fa16b0 div.sk-parallel-item:last-child::after {align-self: flex-start;width: 50%;}#sk-eedca6df-0728-44da-b8ff-b131e8fa16b0 div.sk-parallel-item:only-child::after {width: 0;}#sk-eedca6df-0728-44da-b8ff-b131e8fa16b0 div.sk-dashed-wrapped {border: 1px dashed gray;margin: 0 0.4em 0.5em 0.4em;box-sizing: border-box;padding-bottom: 0.4em;background-color: white;position: relative;}#sk-eedca6df-0728-44da-b8ff-b131e8fa16b0 div.sk-label label {font-family: monospace;font-weight: bold;background-color: white;display: inline-block;line-height: 1.2em;}#sk-eedca6df-0728-44da-b8ff-b131e8fa16b0 div.sk-label-container {position: relative;z-index: 2;text-align: center;}#sk-eedca6df-0728-44da-b8ff-b131e8fa16b0 div.sk-container {/* jupyter's `normalize.less` sets `[hidden] { display: none; }` but bootstrap.min.css set `[hidden] { display: none !important; }` so we also need the `!important` here to be able to override the default hidden behavior on the sphinx rendered scikit-learn.org. See: https://github.com/scikit-learn/scikit-learn/issues/21755 */display: inline-block !important;position: relative;}#sk-eedca6df-0728-44da-b8ff-b131e8fa16b0 div.sk-text-repr-fallback {display: none;}</style><div id=\"sk-eedca6df-0728-44da-b8ff-b131e8fa16b0\" class=\"sk-top-container\"><div class=\"sk-text-repr-fallback\"><pre>Pipeline(steps=[(&#x27;preprocessor&#x27;,\n",
       "                 ColumnTransformer(transformers=[(&#x27;num&#x27;,\n",
       "                                                  Pipeline(steps=[(&#x27;num_imputer&#x27;,\n",
       "                                                                   SimpleImputer(strategy=&#x27;median&#x27;)),\n",
       "                                                                  (&#x27;scaler&#x27;,\n",
       "                                                                   MinMaxScaler())]),\n",
       "                                                  [&#x27;lot_frontage&#x27;, &#x27;lot_area&#x27;,\n",
       "                                                   &#x27;mas_vnr_area&#x27;,\n",
       "                                                   &#x27;bsmtfin_sf_1&#x27;,\n",
       "                                                   &#x27;bsmtfin_sf_2&#x27;,\n",
       "                                                   &#x27;bsmt_unf_sf&#x27;,\n",
       "                                                   &#x27;total_bsmt_sf&#x27;,\n",
       "                                                   &#x27;1st_flr_sf&#x27;, &#x27;2nd_flr_sf&#x27;,\n",
       "                                                   &#x27;low_qual_fin_sf&#x27;,\n",
       "                                                   &#x27;gr_liv_area&#x27;, &#x27;garage_area&#x27;,\n",
       "                                                   &#x27;wood_deck_s...\n",
       "                                                   &#x27;condition_1&#x27;, &#x27;condition_2&#x27;,\n",
       "                                                   &#x27;bldg_type&#x27;, &#x27;house_style&#x27;,\n",
       "                                                   &#x27;roof_style&#x27;, &#x27;roof_matl&#x27;,\n",
       "                                                   &#x27;exterior_1st&#x27;,\n",
       "                                                   &#x27;exterior_2nd&#x27;,\n",
       "                                                   &#x27;mas_vnr_type&#x27;, &#x27;foundation&#x27;,\n",
       "                                                   &#x27;heating&#x27;, &#x27;central_air&#x27;,\n",
       "                                                   &#x27;garage_type&#x27;, &#x27;paved_drive&#x27;,\n",
       "                                                   &#x27;misc_feature&#x27;, &#x27;sale_type&#x27;,\n",
       "                                                   &#x27;lot_shape&#x27;, &#x27;utilities&#x27;,\n",
       "                                                   &#x27;land_slope&#x27;, &#x27;overall_qual&#x27;,\n",
       "                                                   &#x27;overall_cond&#x27;, &#x27;exter_qual&#x27;,\n",
       "                                                   &#x27;exter_cond&#x27;, ...])])),\n",
       "                (&#x27;estimator&#x27;, LassoCV(n_jobs=-1, random_state=42))])</pre><b>Please rerun this cell to show the HTML repr or trust the notebook.</b></div><div class=\"sk-container\" hidden><div class=\"sk-item sk-dashed-wrapped\"><div class=\"sk-label-container\"><div class=\"sk-label sk-toggleable\"><input class=\"sk-toggleable__control sk-hidden--visually\" id=\"4bc11da7-a55f-4aab-860a-e7699a3df5bc\" type=\"checkbox\" ><label for=\"4bc11da7-a55f-4aab-860a-e7699a3df5bc\" class=\"sk-toggleable__label sk-toggleable__label-arrow\">Pipeline</label><div class=\"sk-toggleable__content\"><pre>Pipeline(steps=[(&#x27;preprocessor&#x27;,\n",
       "                 ColumnTransformer(transformers=[(&#x27;num&#x27;,\n",
       "                                                  Pipeline(steps=[(&#x27;num_imputer&#x27;,\n",
       "                                                                   SimpleImputer(strategy=&#x27;median&#x27;)),\n",
       "                                                                  (&#x27;scaler&#x27;,\n",
       "                                                                   MinMaxScaler())]),\n",
       "                                                  [&#x27;lot_frontage&#x27;, &#x27;lot_area&#x27;,\n",
       "                                                   &#x27;mas_vnr_area&#x27;,\n",
       "                                                   &#x27;bsmtfin_sf_1&#x27;,\n",
       "                                                   &#x27;bsmtfin_sf_2&#x27;,\n",
       "                                                   &#x27;bsmt_unf_sf&#x27;,\n",
       "                                                   &#x27;total_bsmt_sf&#x27;,\n",
       "                                                   &#x27;1st_flr_sf&#x27;, &#x27;2nd_flr_sf&#x27;,\n",
       "                                                   &#x27;low_qual_fin_sf&#x27;,\n",
       "                                                   &#x27;gr_liv_area&#x27;, &#x27;garage_area&#x27;,\n",
       "                                                   &#x27;wood_deck_s...\n",
       "                                                   &#x27;condition_1&#x27;, &#x27;condition_2&#x27;,\n",
       "                                                   &#x27;bldg_type&#x27;, &#x27;house_style&#x27;,\n",
       "                                                   &#x27;roof_style&#x27;, &#x27;roof_matl&#x27;,\n",
       "                                                   &#x27;exterior_1st&#x27;,\n",
       "                                                   &#x27;exterior_2nd&#x27;,\n",
       "                                                   &#x27;mas_vnr_type&#x27;, &#x27;foundation&#x27;,\n",
       "                                                   &#x27;heating&#x27;, &#x27;central_air&#x27;,\n",
       "                                                   &#x27;garage_type&#x27;, &#x27;paved_drive&#x27;,\n",
       "                                                   &#x27;misc_feature&#x27;, &#x27;sale_type&#x27;,\n",
       "                                                   &#x27;lot_shape&#x27;, &#x27;utilities&#x27;,\n",
       "                                                   &#x27;land_slope&#x27;, &#x27;overall_qual&#x27;,\n",
       "                                                   &#x27;overall_cond&#x27;, &#x27;exter_qual&#x27;,\n",
       "                                                   &#x27;exter_cond&#x27;, ...])])),\n",
       "                (&#x27;estimator&#x27;, LassoCV(n_jobs=-1, random_state=42))])</pre></div></div></div><div class=\"sk-serial\"><div class=\"sk-item sk-dashed-wrapped\"><div class=\"sk-label-container\"><div class=\"sk-label sk-toggleable\"><input class=\"sk-toggleable__control sk-hidden--visually\" id=\"038e4fc4-7856-4558-b0a1-d157d89a263e\" type=\"checkbox\" ><label for=\"038e4fc4-7856-4558-b0a1-d157d89a263e\" class=\"sk-toggleable__label sk-toggleable__label-arrow\">preprocessor: ColumnTransformer</label><div class=\"sk-toggleable__content\"><pre>ColumnTransformer(transformers=[(&#x27;num&#x27;,\n",
       "                                 Pipeline(steps=[(&#x27;num_imputer&#x27;,\n",
       "                                                  SimpleImputer(strategy=&#x27;median&#x27;)),\n",
       "                                                 (&#x27;scaler&#x27;, MinMaxScaler())]),\n",
       "                                 [&#x27;lot_frontage&#x27;, &#x27;lot_area&#x27;, &#x27;mas_vnr_area&#x27;,\n",
       "                                  &#x27;bsmtfin_sf_1&#x27;, &#x27;bsmtfin_sf_2&#x27;, &#x27;bsmt_unf_sf&#x27;,\n",
       "                                  &#x27;total_bsmt_sf&#x27;, &#x27;1st_flr_sf&#x27;, &#x27;2nd_flr_sf&#x27;,\n",
       "                                  &#x27;low_qual_fin_sf&#x27;, &#x27;gr_liv_area&#x27;,\n",
       "                                  &#x27;garage_area&#x27;, &#x27;wood_deck_sf&#x27;,\n",
       "                                  &#x27;open_porch_sf&#x27;, &#x27;enclosed_por...\n",
       "                                  &#x27;land_contour&#x27;, &#x27;lot_config&#x27;, &#x27;neighborhood&#x27;,\n",
       "                                  &#x27;condition_1&#x27;, &#x27;condition_2&#x27;, &#x27;bldg_type&#x27;,\n",
       "                                  &#x27;house_style&#x27;, &#x27;roof_style&#x27;, &#x27;roof_matl&#x27;,\n",
       "                                  &#x27;exterior_1st&#x27;, &#x27;exterior_2nd&#x27;,\n",
       "                                  &#x27;mas_vnr_type&#x27;, &#x27;foundation&#x27;, &#x27;heating&#x27;,\n",
       "                                  &#x27;central_air&#x27;, &#x27;garage_type&#x27;, &#x27;paved_drive&#x27;,\n",
       "                                  &#x27;misc_feature&#x27;, &#x27;sale_type&#x27;, &#x27;lot_shape&#x27;,\n",
       "                                  &#x27;utilities&#x27;, &#x27;land_slope&#x27;, &#x27;overall_qual&#x27;,\n",
       "                                  &#x27;overall_cond&#x27;, &#x27;exter_qual&#x27;, &#x27;exter_cond&#x27;, ...])])</pre></div></div></div><div class=\"sk-parallel\"><div class=\"sk-parallel-item\"><div class=\"sk-item\"><div class=\"sk-label-container\"><div class=\"sk-label sk-toggleable\"><input class=\"sk-toggleable__control sk-hidden--visually\" id=\"2c7025d2-7340-4d04-9173-ba4a7be4de54\" type=\"checkbox\" ><label for=\"2c7025d2-7340-4d04-9173-ba4a7be4de54\" class=\"sk-toggleable__label sk-toggleable__label-arrow\">num</label><div class=\"sk-toggleable__content\"><pre>[&#x27;lot_frontage&#x27;, &#x27;lot_area&#x27;, &#x27;mas_vnr_area&#x27;, &#x27;bsmtfin_sf_1&#x27;, &#x27;bsmtfin_sf_2&#x27;, &#x27;bsmt_unf_sf&#x27;, &#x27;total_bsmt_sf&#x27;, &#x27;1st_flr_sf&#x27;, &#x27;2nd_flr_sf&#x27;, &#x27;low_qual_fin_sf&#x27;, &#x27;gr_liv_area&#x27;, &#x27;garage_area&#x27;, &#x27;wood_deck_sf&#x27;, &#x27;open_porch_sf&#x27;, &#x27;enclosed_porch&#x27;, &#x27;3ssn_porch&#x27;, &#x27;screen_porch&#x27;, &#x27;pool_area&#x27;, &#x27;misc_val&#x27;, &#x27;age_at_sale&#x27;, &#x27;yrs_since_remod&#x27;, &#x27;bsmt_full_bath&#x27;, &#x27;bsmt_half_bath&#x27;, &#x27;full_bath&#x27;, &#x27;half_bath&#x27;, &#x27;bedroom_abvgr&#x27;, &#x27;kitchen_abvgr&#x27;, &#x27;totrms_abvgrd&#x27;, &#x27;fireplaces&#x27;, &#x27;garage_cars&#x27;]</pre></div></div></div><div class=\"sk-serial\"><div class=\"sk-item\"><div class=\"sk-serial\"><div class=\"sk-item\"><div class=\"sk-estimator sk-toggleable\"><input class=\"sk-toggleable__control sk-hidden--visually\" id=\"64d3bcb8-83ed-476b-991a-57816fd18b91\" type=\"checkbox\" ><label for=\"64d3bcb8-83ed-476b-991a-57816fd18b91\" class=\"sk-toggleable__label sk-toggleable__label-arrow\">SimpleImputer</label><div class=\"sk-toggleable__content\"><pre>SimpleImputer(strategy=&#x27;median&#x27;)</pre></div></div></div><div class=\"sk-item\"><div class=\"sk-estimator sk-toggleable\"><input class=\"sk-toggleable__control sk-hidden--visually\" id=\"37852962-55b4-437f-bef2-fc05fa9fea07\" type=\"checkbox\" ><label for=\"37852962-55b4-437f-bef2-fc05fa9fea07\" class=\"sk-toggleable__label sk-toggleable__label-arrow\">MinMaxScaler</label><div class=\"sk-toggleable__content\"><pre>MinMaxScaler()</pre></div></div></div></div></div></div></div></div><div class=\"sk-parallel-item\"><div class=\"sk-item\"><div class=\"sk-label-container\"><div class=\"sk-label sk-toggleable\"><input class=\"sk-toggleable__control sk-hidden--visually\" id=\"f4834f01-be24-4936-8aea-e08a6db98f1a\" type=\"checkbox\" ><label for=\"f4834f01-be24-4936-8aea-e08a6db98f1a\" class=\"sk-toggleable__label sk-toggleable__label-arrow\">cat</label><div class=\"sk-toggleable__content\"><pre>[&#x27;ms_subclass&#x27;, &#x27;ms_zoning&#x27;, &#x27;street&#x27;, &#x27;alley&#x27;, &#x27;land_contour&#x27;, &#x27;lot_config&#x27;, &#x27;neighborhood&#x27;, &#x27;condition_1&#x27;, &#x27;condition_2&#x27;, &#x27;bldg_type&#x27;, &#x27;house_style&#x27;, &#x27;roof_style&#x27;, &#x27;roof_matl&#x27;, &#x27;exterior_1st&#x27;, &#x27;exterior_2nd&#x27;, &#x27;mas_vnr_type&#x27;, &#x27;foundation&#x27;, &#x27;heating&#x27;, &#x27;central_air&#x27;, &#x27;garage_type&#x27;, &#x27;paved_drive&#x27;, &#x27;misc_feature&#x27;, &#x27;sale_type&#x27;, &#x27;lot_shape&#x27;, &#x27;utilities&#x27;, &#x27;land_slope&#x27;, &#x27;overall_qual&#x27;, &#x27;overall_cond&#x27;, &#x27;exter_qual&#x27;, &#x27;exter_cond&#x27;, &#x27;bsmt_qual&#x27;, &#x27;bsmt_cond&#x27;, &#x27;bsmt_exposure&#x27;, &#x27;bsmtfin_type_1&#x27;, &#x27;bsmtfin_type_2&#x27;, &#x27;heating_qc&#x27;, &#x27;electrical&#x27;, &#x27;kitchen_qual&#x27;, &#x27;functional&#x27;, &#x27;fireplace_qu&#x27;, &#x27;garage_finish&#x27;, &#x27;garage_qual&#x27;, &#x27;garage_cond&#x27;, &#x27;pool_qc&#x27;, &#x27;fence&#x27;]</pre></div></div></div><div class=\"sk-serial\"><div class=\"sk-item\"><div class=\"sk-serial\"><div class=\"sk-item\"><div class=\"sk-estimator sk-toggleable\"><input class=\"sk-toggleable__control sk-hidden--visually\" id=\"659e9e79-76fa-4b45-8b18-871ba21a5aa2\" type=\"checkbox\" ><label for=\"659e9e79-76fa-4b45-8b18-871ba21a5aa2\" class=\"sk-toggleable__label sk-toggleable__label-arrow\">SimpleImputer</label><div class=\"sk-toggleable__content\"><pre>SimpleImputer(strategy=&#x27;most_frequent&#x27;)</pre></div></div></div><div class=\"sk-item\"><div class=\"sk-estimator sk-toggleable\"><input class=\"sk-toggleable__control sk-hidden--visually\" id=\"5c29394c-c943-4df7-add6-c82b6c186257\" type=\"checkbox\" ><label for=\"5c29394c-c943-4df7-add6-c82b6c186257\" class=\"sk-toggleable__label sk-toggleable__label-arrow\">OneHotEncoder</label><div class=\"sk-toggleable__content\"><pre>OneHotEncoder(handle_unknown=&#x27;ignore&#x27;)</pre></div></div></div></div></div></div></div></div></div></div><div class=\"sk-item\"><div class=\"sk-estimator sk-toggleable\"><input class=\"sk-toggleable__control sk-hidden--visually\" id=\"5913f1ee-aec9-406c-b4fb-e23c8adedc7d\" type=\"checkbox\" ><label for=\"5913f1ee-aec9-406c-b4fb-e23c8adedc7d\" class=\"sk-toggleable__label sk-toggleable__label-arrow\">LassoCV</label><div class=\"sk-toggleable__content\"><pre>LassoCV(n_jobs=-1, random_state=42)</pre></div></div></div></div></div></div></div>"
      ],
      "text/plain": [
       "Pipeline(steps=[('preprocessor',\n",
       "                 ColumnTransformer(transformers=[('num',\n",
       "                                                  Pipeline(steps=[('num_imputer',\n",
       "                                                                   SimpleImputer(strategy='median')),\n",
       "                                                                  ('scaler',\n",
       "                                                                   MinMaxScaler())]),\n",
       "                                                  ['lot_frontage', 'lot_area',\n",
       "                                                   'mas_vnr_area',\n",
       "                                                   'bsmtfin_sf_1',\n",
       "                                                   'bsmtfin_sf_2',\n",
       "                                                   'bsmt_unf_sf',\n",
       "                                                   'total_bsmt_sf',\n",
       "                                                   '1st_flr_sf', '2nd_flr_sf',\n",
       "                                                   'low_qual_fin_sf',\n",
       "                                                   'gr_liv_area', 'garage_area',\n",
       "                                                   'wood_deck_s...\n",
       "                                                   'condition_1', 'condition_2',\n",
       "                                                   'bldg_type', 'house_style',\n",
       "                                                   'roof_style', 'roof_matl',\n",
       "                                                   'exterior_1st',\n",
       "                                                   'exterior_2nd',\n",
       "                                                   'mas_vnr_type', 'foundation',\n",
       "                                                   'heating', 'central_air',\n",
       "                                                   'garage_type', 'paved_drive',\n",
       "                                                   'misc_feature', 'sale_type',\n",
       "                                                   'lot_shape', 'utilities',\n",
       "                                                   'land_slope', 'overall_qual',\n",
       "                                                   'overall_cond', 'exter_qual',\n",
       "                                                   'exter_cond', ...])])),\n",
       "                ('estimator', LassoCV(n_jobs=-1, random_state=42))])"
      ]
     },
     "execution_count": 23,
     "metadata": {},
     "output_type": "execute_result"
    }
   ],
   "source": [
    "# display a diagram of the pipeline as an example\n",
    "set_config(display='diagram')\n",
    "model_pipes['Lasso']\n"
   ]
  },
  {
   "cell_type": "markdown",
   "metadata": {},
   "source": [
    "The above html diagram is a graphical representation of the pipeline, with separate sub-pipelines for numeric (num) and categorical (cat) features.\n",
    "\n",
    "**Numeric feature sub-pipeline**\n",
    "\n",
    "- Simple imputer is used to fill any missing values with the median value of that feature. A 'mean' strategy may not be so effective because some features have heavily skewed distributions.\n",
    "\n",
    "- MinMaxScaler will scale numeric features to a 0 to 1 range. This scale matches up with the scale of the categoric features, which will be encoded into 0 and 1s. Consistent scaling between features, even of different type, is essential for most regularized regressions.\n",
    "\n",
    "**Categorical feature sub-pipeline**\n",
    "\n",
    "- Simple imputer fills any missing values with the 'most_frequent' category within that feature.\n",
    "\n",
    "- OneHotEncoder then encodes the categorical features as a one-hot numeric array. Note that because the data is later fed into a regularized linear regression model, the drop ‘first’ argument is not set. These are two convincing discussions which support this decision to keep all categories when regularisation is employed. [(source 1)](https://stats.stackexchange.com/questions/511112/should-one-hot-encoding-or-dummy-variables-be-used-with-ridge-regression) [(source 2)](https://stats.stackexchange.com/questions/231285/dropping-one-of-the-columns-when-using-one-hot-encoding)"
   ]
  },
  {
   "cell_type": "markdown",
   "metadata": {},
   "source": [
    "# 8. Evaluating Models"
   ]
  },
  {
   "cell_type": "markdown",
   "metadata": {},
   "source": [
    "### 8.1 Cross Validated Scoring\n",
    "\n",
    "For each model, r2 scores are evaluated by cross-validation (10-fold)."
   ]
  },
  {
   "cell_type": "code",
   "execution_count": 24,
   "metadata": {},
   "outputs": [
    {
     "name": "stdout",
     "output_type": "stream",
     "text": [
      "LinearRegression cross validation scores (measured in r2)\n",
      "Score for each fold: [0.911 0.888 0.929 0.917 0.853 0.933 0.871 0.11  0.898 0.925]\n",
      "Mean cross validated score: 0.823\n",
      "\n",
      "Lasso cross validation scores (measured in r2)\n",
      "Score for each fold: [0.923 0.91  0.92  0.93  0.921 0.931 0.879 0.293 0.9   0.937]\n",
      "Mean cross validated score: 0.854\n",
      "\n",
      "Ridge cross validation scores (measured in r2)\n",
      "Score for each fold: [0.902 0.886 0.88  0.915 0.905 0.916 0.855 0.276 0.897 0.912]\n",
      "Mean cross validated score: 0.835\n",
      "\n",
      "ElasticNet cross validation scores (measured in r2)\n",
      "Score for each fold: [0.923 0.91  0.92  0.93  0.921 0.931 0.879 0.293 0.9   0.937]\n",
      "Mean cross validated score: 0.854\n",
      "\n",
      "Huber cross validation scores (measured in r2)\n",
      "Score for each fold: [0.917 0.912 0.921 0.932 0.915 0.934 0.876 0.446 0.901 0.931]\n",
      "Mean cross validated score: 0.869\n",
      "\n"
     ]
    }
   ],
   "source": [
    "# cross validation scores for each model\n",
    "for model_name, model_pipe in model_pipes.items():\n",
    "\n",
    "    # using shuffle split to shuffle the data for cross val score - must specify random state for reproducibility\n",
    "    kf = KFold(n_splits=10, shuffle=True, random_state=42)\n",
    "    cvs = cross_val_score(model_pipe, X_train, y_train,\n",
    "                          cv=kf, scoring='r2', n_jobs=-1)\n",
    "\n",
    "    print(f'{model_name} cross validation scores (measured in r2)')\n",
    "    print(f'Score for each fold: {cvs.round(3)}')\n",
    "    print(f'Mean cross validated score: {np.mean(cvs):.3f}\\n')\n"
   ]
  },
  {
   "cell_type": "markdown",
   "metadata": {},
   "source": [
    "Based on the cross-validated r2 scores, which measures the variation in the response that can be explained by the model, all models perform well as all r2 scores exceed 0.8. \n",
    "\n",
    "|Model|Mean cross validated score|\n",
    "| --- | --- |\n",
    "|Huber|0.869|\n",
    "|ElasticNet|0.854|\n",
    "|Lasso|0.854|\n",
    "|Ridge|0.835|\n",
    "|Linear Regression*|0.823|\n",
    "\n",
    "As expected, the unregularized linear regression fares the worst. The Huber Regressor performs the best, presumably due to the Huber being better at handling outliers in the dataset, while still preventing overfitting. "
   ]
  },
  {
   "cell_type": "markdown",
   "metadata": {},
   "source": [
    "**A technical aside on sklearn's output for the OLS linear regression*:\n",
    "\n",
    "Linear regression is still able to return a solution, despite one hot encoding creating a dummy variable trap (perfect multicollinearity) since drop='first' was not specified. How then is sklearn's linear regression still able to solve the OLS optimization problem?\n",
    "\n",
    "The intuition is that the now undetermined system has many solutions and sklearn's [linalg.lstsq](https://numpy.org/doc/stable/reference/generated/numpy.linalg.lstsq.html) solver is returning just one of the solutions for the linear regression. The solver is probably using gradient descent and is unable to know that it is solving for a multitude of solutions.\n",
    "\n",
    "Naturally, this particular linear regression model will not be considered for production."
   ]
  },
  {
   "cell_type": "markdown",
   "metadata": {},
   "source": [
    "### 8.2 Test for overfitting with unseen data"
   ]
  },
  {
   "cell_type": "code",
   "execution_count": 25,
   "metadata": {},
   "outputs": [
    {
     "name": "stdout",
     "output_type": "stream",
     "text": [
      "LinearRegression trained\n",
      "train r2=0.94744, test r2=0.93164\n",
      "Lasso trained\n",
      "train r2=0.93794, test r2=0.93218\n",
      "Ridge trained\n",
      "train r2=0.91585, test r2=0.90709\n",
      "ElasticNet trained\n",
      "train r2=0.93794, test r2=0.93218\n",
      "Huber trained\n",
      "train r2=0.91058, test r2=0.92995\n"
     ]
    }
   ],
   "source": [
    "# training the models\n",
    "for model_name, model_pipe in model_pipes.items():\n",
    "    # fitting each model to the training data\n",
    "    model_pipe.fit(X_train, y_train)\n",
    "\n",
    "    print(f'{model_name} trained')\n",
    "    print(\n",
    "        f'train r2={model_pipe.score(X_train, y_train):.5f}, test r2={model_pipe.score(X_test, y_test):.5f}')\n"
   ]
  },
  {
   "cell_type": "markdown",
   "metadata": {},
   "source": [
    "The models are then tested against the holdout test data to check for overfitting. The small gap between train and test r2 scores suggests that there is minimal overfitting for all models. \n",
    "\n",
    "For the regularized models, this result is expected. However, the linear regression result is surprising since it suggests that minimal overfitting is occurring even without regularization. "
   ]
  },
  {
   "cell_type": "markdown",
   "metadata": {},
   "source": [
    "### 8.3 Evaluating Model Interpretability"
   ]
  },
  {
   "cell_type": "markdown",
   "metadata": {},
   "source": [
    "Plotting the features with the strongest effect on the sale price for each model.\n",
    "\n",
    "Only the top 5 and bottom 5 features are shown."
   ]
  },
  {
   "cell_type": "code",
   "execution_count": 26,
   "metadata": {},
   "outputs": [],
   "source": [
    "def model_feature_plot(model_name, model_pipe, top=10, bottom=10):\n",
    "\n",
    "    # feature coefficients at the estimator step of  the pipeline\n",
    "    model_coef = model_pipe['estimator'].coef_\n",
    "\n",
    "    # feture names will be the numeric feature names + the OHE categorical feature names\n",
    "    feature_names = numeric_features + list(model_pipe['preprocessor'].transformers_[1][1][1]\n",
    "                                            .get_feature_names_out(cat_features))\n",
    "\n",
    "    # creating a dataframe with the feature coefficients and feature names\n",
    "    model_coef_df = pd.DataFrame(\n",
    "        model_coef, index=feature_names, columns=['coef'])\n",
    "\n",
    "    # top 10 and bottom 10 features which have the most impact on the target\n",
    "    sorted_coef_df = model_coef_df.sort_values(by='coef', ascending=False)\n",
    "\n",
    "    # slicing the best and worst 10 features, and then labelling them\n",
    "    impt_features = pd.concat(\n",
    "        [sorted_coef_df.head(top), sorted_coef_df.tail(bottom)])\n",
    "    impt_features['strength'] = impt_features['coef'].apply(\n",
    "        lambda x: 'Bottom' if x < 0 else 'Top')\n",
    "\n",
    "    # plotting\n",
    "    (sns.barplot(data=impt_features, x='coef', y=impt_features.index, orient='h', hue='strength').\n",
    "     set(title=f'{model_name}'))\n"
   ]
  },
  {
   "cell_type": "code",
   "execution_count": 27,
   "metadata": {},
   "outputs": [
    {
     "data": {
      "image/png": "[encoded data removed]",
      "text/plain": [
       "<Figure size 288x288 with 1 Axes>"
      ]
     },
     "metadata": {
      "needs_background": "light"
     },
     "output_type": "display_data"
    },
    {
     "data": {
      "image/png": "[encoded data removed]",
      "text/plain": [
       "<Figure size 288x288 with 1 Axes>"
      ]
     },
     "metadata": {
      "needs_background": "light"
     },
     "output_type": "display_data"
    },
    {
     "data": {
      "image/png": "[encoded data removed]",
      "text/plain": [
       "<Figure size 288x288 with 1 Axes>"
      ]
     },
     "metadata": {
      "needs_background": "light"
     },
     "output_type": "display_data"
    },
    {
     "data": {
      "image/png": "[encoded data removed]",
      "text/plain": [
       "<Figure size 288x288 with 1 Axes>"
      ]
     },
     "metadata": {
      "needs_background": "light"
     },
     "output_type": "display_data"
    },
    {
     "data": {
      "image/png": "[encoded data removed]",
      "text/plain": [
       "<Figure size 288x288 with 1 Axes>"
      ]
     },
     "metadata": {
      "needs_background": "light"
     },
     "output_type": "display_data"
    }
   ],
   "source": [
    "# plotting strongest features for each model - to get a handle on interpretability\n",
    "for model_name, model_pipe in model_pipes.items():\n",
    "    fig, axes = plt.subplots(figsize=(4, 4))\n",
    "    model_feature_plot(model_name, model_pipe, top=5, bottom=5)\n"
   ]
  },
  {
   "cell_type": "markdown",
   "metadata": {},
   "source": [
    "The larger the coefficient, the more it affects the final sale price, ceteris paribus. Features with positive coefficients increase the sale price, while features with negative coefficients are detrimental.\n",
    "\n",
    "- Across models, some key features float to the very top: total_bsmt_sf, gr_liv_area, 1st_flr_sf, neighborhood_GrnHill, high overall_qual\n",
    "\n",
    "- Likewise, across the models some features also sink to the bottom of the list: poor overall condition or quality, and age_at_sale\n",
    "\n",
    "- Some coefficients are highly positive or negative in some models. The hypothesis is that this is due to outliers in data. The Linear Regression, Lasso, and Elastic Net seem to have trouble coping with outliers based on these plots. It also turns out that there is only one observation where the roof material (roof_matl) is clay tile (ClyTile), which is likely to have caused the extreme negative coefficient in the Lasso and Elastic Net models.\n",
    "\n",
    "- Huber and Ridge models have more 'balanced 'coefficients"
   ]
  },
  {
   "cell_type": "markdown",
   "metadata": {},
   "source": [
    "# 9. Model Selection "
   ]
  },
  {
   "cell_type": "markdown",
   "metadata": {},
   "source": [
    "The five models are evaluated across three criteria selected for this business problem:\n",
    "\n",
    "1. Accuracy - This is measured by cross-validated r2 score and the model's ability to prevent overfitting. Based on earlier results, overfitting doesn't seem to be an issue for all models. In terms of accuracy via cross-validated r2 scores, the Huber model is ahead.\n",
    "\n",
    "2. Interpretability - A subjective measure of usefulness in solving the business problem. As a recap, the objective is to discover features that increase the perceived value of a house and downplay features that decrease perceived value. The plots of the strongest features (top 5 and bottom 5) answers this. While all models are able to deliver on this point, the Linear Regression, Lasso, and Elastic Net produce a few \"extreme\" coefficients which are questionable. Huber and Ridge models have more 'balanced 'coefficients and are thus more interpretable and useful to stakeholders.\n",
    "\n",
    "3. Parsimony - This is a measure of the model's simplicity. Across the board, these linear models are whitebox models and are simple to explain. What differs is the features required by the model to make new predictions. All the models, except Lasso and Elastic Net, require almost all the features provided in the dataset. Only Lasso and Elastic Net have \"zeroed\" out features by assigning zero coefficients to the \"weaker\" features.\n",
    "\n",
    "**Summary of the model selection criteria (measures are relative to other models)**\n",
    "\n",
    "|Model|Accuracy|Interpretability|Parsimony|\n",
    "| --- | --- | --- |--- |\n",
    "|Huber|**Good**|**Good**|Poor|\n",
    "|ElasticNet|Average|Poor|**Good**|\n",
    "|Lasso|Average|Poor|**Good**|\n",
    "|Ridge|Average|**Good**|Poor|\n",
    "|Linear Regression|Poor|Poor|Poor|\n",
    "\n",
    "Based on all three dimensions, the Huber Regressor offers the best tradeoff in offering high accuracy and interpretability but at the cost of using all the features in the model."
   ]
  },
  {
   "cell_type": "code",
   "execution_count": 28,
   "metadata": {},
   "outputs": [
    {
     "name": "stdout",
     "output_type": "stream",
     "text": [
      "LinearRegression has 329 columns\n",
      "Lasso has 154 columns\n",
      "Ridge has 329 columns\n",
      "ElasticNet has 154 columns\n",
      "Huber has 329 columns\n"
     ]
    }
   ],
   "source": [
    "# demonstration of features zeroed out by the various models\n",
    "total_features = len(model_pipes['LinearRegression']['estimator'].coef_)\n",
    "\n",
    "for key in model_pipes.keys():\n",
    "    zeroed = (model_pipes[key]['estimator'].coef_ == 0).sum()\n",
    "    print(f'{key} has {total_features - zeroed} columns')\n"
   ]
  },
  {
   "cell_type": "markdown",
   "metadata": {},
   "source": [
    "### 9.1 Tuning the Huber Regressor"
   ]
  },
  {
   "cell_type": "markdown",
   "metadata": {},
   "source": [
    "The Huber Regressor has two hyper parameters within [sklearn](https://scikit-learn.org/stable/modules/generated/sklearn.linear_model.HuberRegressor.html):\n",
    "\n",
    "- Epsilon controls the number of samples that should be classified as outliers. The smaller the epsilon, the more robust it is to outliers.\n",
    "\n",
    "- Alpha is the regularization parameter.\n",
    "\n",
    "A grid search over the Huber pipeline will be used to tune the hyperparameters."
   ]
  },
  {
   "cell_type": "code",
   "execution_count": 29,
   "metadata": {},
   "outputs": [],
   "source": [
    "# finalizing the final model pipeline for the HuberRegressor\n",
    "\n",
    "numeric_transformer = Pipeline(steps=[('num_imputer', SimpleImputer(strategy='median')),\n",
    "                                      ('scaler', MinMaxScaler())\n",
    "                                      ])\n",
    "\n",
    "categorical_transformer = Pipeline(steps=[('cat_imputer', SimpleImputer(strategy='most_frequent')),\n",
    "                                          ('onehot', OneHotEncoder(\n",
    "                                              handle_unknown='ignore'))\n",
    "                                          ])\n",
    "\n",
    "preprocessor = ColumnTransformer(\n",
    "    transformers=[('num', numeric_transformer, numeric_features),\n",
    "                  ('cat', categorical_transformer, cat_features)\n",
    "                  ])\n",
    "\n",
    "tuned_huber = Pipeline(steps=[('preprocessor', preprocessor),\n",
    "                              ('estimator', HuberRegressor(\n",
    "                                  epsilon=1.35, alpha=0.0001, max_iter=10000))\n",
    "                              ])\n"
   ]
  },
  {
   "cell_type": "code",
   "execution_count": 30,
   "metadata": {},
   "outputs": [
    {
     "name": "stdout",
     "output_type": "stream",
     "text": [
      "Best params:\n",
      "{'estimator__alpha': 0.0001, 'estimator__epsilon': 1.1}\n",
      "Internal CV score: 0.870\n"
     ]
    }
   ],
   "source": [
    "# setting up the grid search with huber hyperparameters\n",
    "param_grid = {'estimator__epsilon': [1.01, 1.05, 1.10, 1.30, 1.35],\n",
    "              'estimator__alpha': list(np.logspace(-7, -3, num=5))}\n",
    "\n",
    "# instantiating the GridSearchCV object\n",
    "kf = KFold(n_splits=10, shuffle=True, random_state=42)\n",
    "grid_search = GridSearchCV(tuned_huber, param_grid,\n",
    "                           cv=kf, scoring='r2', n_jobs=-1)\n",
    "\n",
    "# cross-validated search for the best hyper-parameters combination\n",
    "grid_search.fit(X_train, y_train)\n",
    "\n",
    "# gridsearch results are stored in a dataframe if required\n",
    "cv_results = pd.DataFrame(grid_search.cv_results_)\n",
    "\n",
    "print(\"Best params:\")\n",
    "print(grid_search.best_params_)\n",
    "print(f\"Internal CV score: {grid_search.best_score_:.3f}\")\n"
   ]
  },
  {
   "cell_type": "code",
   "execution_count": 32,
   "metadata": {},
   "outputs": [],
   "source": [
    "tuned_huber = grid_search.best_estimator_"
   ]
  },
  {
   "cell_type": "code",
   "execution_count": 31,
   "metadata": {},
   "outputs": [
    {
     "name": "stdout",
     "output_type": "stream",
     "text": [
      "train r2=0.91058, test r2=0.92995\n"
     ]
    }
   ],
   "source": [
    "tuned_huber.fit(X_train, y_train)\n",
    "print(f'train r2={tuned_huber.score(X_train, y_train):.5f}, test r2={model_pipe.score(X_test, y_test):.5f}')"
   ]
  },
  {
   "cell_type": "markdown",
   "metadata": {},
   "source": [
    "The hyperparameter tuning has increased the cross-validated r2 score from 0.869 to 0.870. There is still no sign of overfitting and the model is performing well against unseen data. The final tuned model is assigned to `tuned_huber`"
   ]
  },
  {
   "cell_type": "markdown",
   "metadata": {},
   "source": [
    "### 9.2 Regression assumptions with the finalized model \n",
    "\n",
    "Before interpreting and retrieving insights from the finalized model, the technical assumptions for regression are revisited.\n",
    "\n",
    "- Linearity and Additivity\n",
    "- Statistical independence of the errors \n",
    "- Homoscedasticity\n",
    "- Normality of the error terms"
   ]
  },
  {
   "cell_type": "code",
   "execution_count": 33,
   "metadata": {},
   "outputs": [
    {
     "data": {
      "image/png": "[encoded data removed]",
      "text/plain": [
       "<Figure size 432x288 with 1 Axes>"
      ]
     },
     "metadata": {
      "needs_background": "light"
     },
     "output_type": "display_data"
    }
   ],
   "source": [
    "y_pred = tuned_huber.predict(X_train)\n",
    "residuals = y_train - y_pred\n",
    "residuals\n",
    "\n",
    "plt.scatter(y_train, residuals)\n",
    "plt.xlabel('Actual')\n",
    "plt.ylabel('Residuals')\n",
    "plt.title('Residuals vs Actual')\n"
   ]
  },
  {
   "cell_type": "markdown",
   "metadata": {},
   "source": [
    "**Plotting residuals against fitted values**\n",
    "\n",
    "- Shows that outliers are present in the data\n",
    "- Slight upward curve of the data suggest that the model doesn’t capture some non-linear effects\n",
    "- No indication of heteroscedasticity as the spread is not funnel-shaped"
   ]
  },
  {
   "cell_type": "code",
   "execution_count": 34,
   "metadata": {},
   "outputs": [
    {
     "data": {
      "image/png": "[encoded data removed]",
      "text/plain": [
       "<Figure size 432x288 with 1 Axes>"
      ]
     },
     "metadata": {
      "needs_background": "light"
     },
     "output_type": "display_data"
    }
   ],
   "source": [
    "sm.qqplot(residuals, line='s');"
   ]
  },
  {
   "cell_type": "markdown",
   "metadata": {},
   "source": [
    "**Normal Q-Q Plot**\n",
    "\n",
    "- Shows that errors are not normally distributed"
   ]
  },
  {
   "cell_type": "markdown",
   "metadata": {},
   "source": [
    "### 9.3 Violating assumptions: Is the model still valid?\n",
    "\n",
    "The model does not fulfil the technical assumptions for linear regression. \n",
    "\n",
    "Whether the model is valid should instead depend on whether the objective is prediction or inference. It is possible to argue that this business problem requires a little bit of both. The task is to create a regression model to predict the price of a house at sale. In this regard the model achieves the objective; cross-validated scores are good and the model generalizes well to unseen data without overfitting.\n",
    "\n",
    "On the other hand, the above tests casts doubt about the unbiasedness of the feature coefficients. Inference, in the context of understanding the feature coefficients, is hampered.\n",
    "\n",
    "However, the real elephant in the room is whether such technical assumptions matter in the context of regularized regression techniques. The strength of such techniques is to \"make a biased estimate of regression parameters\" as quoted from this [online discussion](https://stats.stackexchange.com/a/183198). The commenter then goes on to make an excellent argument about technical assumptions when regularization is applied:\n",
    "\n",
    "_The whole point of these methods is to make a biased estimate of regression parameters, and hoping to reduce the expected loss by exploiting the bias-variance trade-off... It is therefore not clear to me how there can be any theoretical optimality statement about β^, and so I am not sure that talking about \"assumptions\" (presence or absence thereof) of penalized methods such as ridge regression makes sense at all._\n",
    "\n",
    "As a conclusion to this chapter on model selection - the model is indeed valid in the context of the business task of delivering prediction accuracy. Inference (of the coefficients) is not as statistically rigorous as desired, due to the violated regression assumptions, but that is the tradeoff in delivering a strong predictive model within the constraints."
   ]
  },
  {
   "cell_type": "markdown",
   "metadata": {},
   "source": [
    "# 10. Insights from the Final Model"
   ]
  },
  {
   "cell_type": "code",
   "execution_count": 35,
   "metadata": {},
   "outputs": [
    {
     "data": {
      "image/png": "[encoded data removed]",
      "text/plain": [
       "<Figure size 360x720 with 1 Axes>"
      ]
     },
     "metadata": {
      "needs_background": "light"
     },
     "output_type": "display_data"
    }
   ],
   "source": [
    "# strongest feature plot from the best model\n",
    "fig, axes = plt.subplots(figsize=(5, 10))\n",
    "plt.axvline(x=0, color='g', linestyle=':', linewidth=3)\n",
    "model_feature_plot('Tuned Huber - Strongest Features',\n",
    "                   tuned_huber, top=15, bottom=5)\n"
   ]
  },
  {
   "cell_type": "markdown",
   "metadata": {},
   "source": [
    "### 10.1 Features that have the most effect on the value of the home\n",
    "\n",
    "The regression coefficient is a measure of positive or negative correlation between each feature and the response. The larger the magnitude, the stronger this effect is. \n",
    "\n",
    "A technical note: By defining the response and features at the start of the project, the causal relationship has already been assumed. In this case, it seems intuitive that the instances of these features (age, condition, etc) should necessarily precede the instance when the sale price is determined. Indeed, the causal relationship between the features and response has some backing because of this.\n",
    "\n",
    "**Features that add the most value to a home (strongest to weakest):**\n",
    "\n",
    "- Gr Liv Area: Above grade (ground) living area square feet\n",
    "- 1st Flr SF: First Floor square feet\n",
    "- BsmtFin SF 1: Type 1 finished square feet*\n",
    "- Total Bsmt SF: Total square feet of basement area\n",
    "- Lot Area: Lot size in square feet\n",
    "- Overall Qual: Rates the overall material and finish of the house - high ranking of 10 or 9**\n",
    "- 2nd Flr SF: Second floor square feet\n",
    "- Neighborhood - Northridge or Green Hills neighborhoods\n",
    "- Mas Vnr Area: Masonry veneer area in square feet\n",
    "- Garage Cars: Size of garage in car capacity\n",
    "- TotRmsAbvGrd: Total rooms above grade (does not include bathrooms)\n",
    "- Exter Qual: Evaluates the quality of the material on the exterior - high rating of Excellent**\n",
    "- Screen Porch: Screen porch area in square feet\n",
    "\n",
    "**Features that diminish the value of a home (strongest to weakest):**\n",
    "\n",
    "- Age at sale \n",
    "- Overall Cond: Rates the overall condition of the house - low ranking of 3 and below**\n",
    "- Overall Qual: Rates the overall material and finish of the house - low ranking of 4 and below**\n",
    "- HeatingQC: Heating quality and condition - low rating of Poor**\n",
    "\n",
    "_Fine print - Some features are not perfectly interpretable due to the choice of model_\n",
    "\n",
    "*BsmtFin SF 1: Type 1 finished square feet needs to be interpreted as an interaction between the rating of basement finished area and the total square feet of this finish. This is not immediately clear from the chart.\n",
    "\n",
    "**Ordinal features were encoded as categorical nominal so direct interpretation of all the ordinal categories above/below the level depicted is difficult. When a feature like overall_cond_3 shows up on the chart, then the assumption is that overall_cond_2 and overall_cond_1 are obviously \"worse\" features and should adversely affect sale price even more. This logical leap can only be surmised and is not obvious from the model. "
   ]
  },
  {
   "cell_type": "markdown",
   "metadata": {},
   "source": [
    "### 10.2 Business Recommendations"
   ]
  },
  {
   "cell_type": "code",
   "execution_count": 36,
   "metadata": {},
   "outputs": [],
   "source": [
    "# saving the model coefficients as a csv for stakeholder reference\n",
    "\n",
    "# feature coefficients at the estimator step of  the pipeline\n",
    "model_coef = tuned_huber['estimator'].coef_\n",
    "\n",
    "# feature names will be the numeric feature names + the OHE categorical feature names\n",
    "feature_names = numeric_features + list(tuned_huber['preprocessor'].transformers_[1][1][1]\n",
    "                                        .get_feature_names_out(cat_features))\n",
    "\n",
    "# creating a dataframe with the feature coefficients and feature names\n",
    "model_coef_df = pd.DataFrame(model_coef, index=feature_names, columns=['coef'])\n",
    "\n",
    "# write the coefficients dataset to a csv\n",
    "if not os.path.exists('output'):\n",
    "    os.makedirs('output')\n",
    "model_coef_df.to_csv('output/model_coefficients.csv')\n"
   ]
  },
  {
   "cell_type": "markdown",
   "metadata": {},
   "source": [
    "- Agents should pay close attention to highlight features that have a strong positive coefficient because these features have a positive impact on sale price. Likewise, features with negative coefficients should be downplayed. Agents may take reference from the chart above or refer to the [`model_coefficients.csv`](output/model_coefficients.csv) for the full list of features and coefficients. \n",
    "\n",
    "- If houses are to be refurbished by the Ames agency prior to market listing, overall quality (material and finish) should be prioritized over overall condition of the house. Overall quality has a stronger impact than condition according to the model. \n",
    "\n",
    "- When prospecting for houses to sell, agents should focus on neighborhoods like Northridge or Green Hills. These locations have a positive impact on sale price. More expensive sale prices directly contribute to higher commissions. \n",
    "\n",
    "- Before engaging a client, agents are advised to predict the sale price with the model. This allows agents to more objectively understand the [zone of possible agreement](https://www.investopedia.com/terms/z/zoneofpossibleagreement.asp) before negotiations with both buyers and sellers."
   ]
  },
  {
   "cell_type": "markdown",
   "metadata": {},
   "source": [
    "# 11. Conclusion\n",
    "\n",
    "The business problem covers both prediction and inference - a) derive sale price **predictions**, and b) **infer** the strongest features that affect sale price.\n",
    "\n",
    "A regression approach was selected for this business problem. Five different regression models were shortlisted and then evaluated across three criteria specially selected for this business problem: \n",
    "\n",
    "1. Predictive accuracy\n",
    "2. Interpretability of the coefficients\n",
    "3. Parsimony (number of features required by the model)\n",
    "\n",
    "Based on all three dimensions, the Huber Regressor offers the best tradeoff in offering high accuracy and interpretability but at the cost of using all the features in the model.\n",
    "\n",
    "For the first deliverable, the final tuned model achieves respectable predictive accuracy. The cross-validated r2 score is 0.870 and the model performs well against unseen data with no overfitting.\n",
    "\n",
    "As for the second deliverable, while there are some caveats on the statistical rigor required for inference, the model is still able to generate reasonable feature coefficients for all features. The strongest feature chart and [`model_coefficients.csv`](output/model_coefficients.csv) were created for this purpose.\n",
    "\n",
    "### 11.1 Future steps\n",
    "\n",
    "- Further model refinement is possible. Polynomial and interaction features deserve some attention in this dataset. \n",
    "\n",
    "- Steps can also be taken to move the model into production. Ideally an app interface can be created for stakeholders so that \"predictions on demand\" can be retrieved from the model instead of batch-processed. Stakeholders may also wish for business analytics to be displayed via a dashboard. \n",
    "\n",
    "- Lastly, the current model does not generalize well to other cities as geographical data like neighborhood categories have significant bearing on predictions as inferred from the model. If equivalent neighborhood data can be obtained for other cities, perhaps this same model (once trained) may have a chance of obtaining accurate predictions for other cities."
   ]
  },
  {
   "cell_type": "markdown",
   "metadata": {},
   "source": [
    "### Annex: Submission to kaggle"
   ]
  },
  {
   "cell_type": "markdown",
   "metadata": {},
   "source": [
    "As part of the submission, the model predictions are submitted to the [DSI-US-11 Regression Challenge](https://www.kaggle.com/c/dsi-us-11-project-2-regression-challenge). \n",
    "\n",
    "Private Score - Root Mean Square Error of **19751.85955** (12th place if the competition was still open)"
   ]
  },
  {
   "cell_type": "code",
   "execution_count": 37,
   "metadata": {},
   "outputs": [],
   "source": [
    "test_predictions = pd.DataFrame(tuned_huber.predict(df_test_X), index= df_test_X.index, columns=['SalePrice'])\n",
    "\n",
    "# write the predictions dataset to a csv\n",
    "if not os.path.exists('output'):\n",
    "    os.makedirs('output')\n",
    "test_predictions.to_csv('output/test_predictions_huber3.csv')"
   ]
  }
 ],
 "metadata": {
  "kernelspec": {
   "display_name": "Python 3.8.13 ('sihao_ds')",
   "language": "python",
   "name": "python3"
  },
  "language_info": {
   "codemirror_mode": {
    "name": "ipython",
    "version": 3
   },
   "file_extension": ".py",
   "mimetype": "text/x-python",
   "name": "python",
   "nbconvert_exporter": "python",
   "pygments_lexer": "ipython3",
   "version": "3.8.13"
  },
  "orig_nbformat": 4,
  "vscode": {
   "interpreter": {
    "hash": "d00a325c9ee70edd5a481cb1d401debc9bc10463320bf665ba03cf1bd3079e47"
   }
  }
 },
 "nbformat": 4,
 "nbformat_minor": 2
}
